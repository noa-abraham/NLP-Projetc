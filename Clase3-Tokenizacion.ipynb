{
 "cells": [
  {
   "cell_type": "code",
   "execution_count": 1,
   "id": "db4d88ec-1a30-4d8f-8e74-11a6cdafffa8",
   "metadata": {},
   "outputs": [
    {
     "ename": "NameError",
     "evalue": "name 'stopwords' is not defined",
     "output_type": "error",
     "traceback": [
      "\u001b[1;31m---------------------------------------------------------------------------\u001b[0m",
      "\u001b[1;31mNameError\u001b[0m                                 Traceback (most recent call last)",
      "Cell \u001b[1;32mIn[1], line 1\u001b[0m\n\u001b[1;32m----> 1\u001b[0m stop_words \u001b[38;5;241m=\u001b[39m \u001b[38;5;28mset\u001b[39m(\u001b[43mstopwords\u001b[49m\u001b[38;5;241m.\u001b[39mwords(\u001b[38;5;124m'\u001b[39m\u001b[38;5;124mspanish\u001b[39m\u001b[38;5;124m'\u001b[39m))\n\u001b[0;32m      2\u001b[0m \u001b[38;5;28mprint\u001b[39m(stop_words)\n",
      "\u001b[1;31mNameError\u001b[0m: name 'stopwords' is not defined"
     ]
    }
   ],
   "source": [
    "stop_words = set(stopwords.words('spanish'))\n",
    "print(stop_words)"
   ]
  },
  {
   "cell_type": "code",
   "execution_count": 2,
   "id": "1c24fb58-f379-488c-b9c0-af8ca7329f07",
   "metadata": {},
   "outputs": [
    {
     "name": "stdout",
     "output_type": "stream",
     "text": [
      "NLTK está instalado correctamente.\n"
     ]
    }
   ],
   "source": [
    "import nltk\n",
    "print(\"NLTK está instalado correctamente.\")\n"
   ]
  },
  {
   "cell_type": "code",
   "execution_count": 3,
   "id": "756924b5-df69-4c65-abfc-c88151bf1bd1",
   "metadata": {},
   "outputs": [
    {
     "name": "stderr",
     "output_type": "stream",
     "text": [
      "[nltk_data] Downloading package stopwords to\n",
      "[nltk_data]     C:\\Users\\noeli\\AppData\\Roaming\\nltk_data...\n",
      "[nltk_data]   Unzipping corpora\\stopwords.zip.\n"
     ]
    },
    {
     "data": {
      "text/plain": [
       "True"
      ]
     },
     "execution_count": 3,
     "metadata": {},
     "output_type": "execute_result"
    }
   ],
   "source": [
    "nltk.download('stopwords')"
   ]
  },
  {
   "cell_type": "code",
   "execution_count": 4,
   "id": "924bb4b8-cfd6-4fdb-a982-55c58c077881",
   "metadata": {},
   "outputs": [],
   "source": [
    "from nltk.corpus import stopwords\n",
    "from nltk.tokenize import word_tokenize"
   ]
  },
  {
   "cell_type": "code",
   "execution_count": 5,
   "id": "997c5b08-3b2f-4940-89ed-6dc7a2e34215",
   "metadata": {},
   "outputs": [
    {
     "name": "stdout",
     "output_type": "stream",
     "text": [
      "Tokens: ['¡Hola', '!', '¿Cómo', 'estás', 'hoy', '?', 'Espero', 'que', 'estés', 'aprendiendo', 'mucho', '.']\n",
      "Sin stopwords: ['¡Hola', '!', '¿Cómo', 'hoy', '?', 'Espero', 'aprendiendo', '.']\n"
     ]
    },
    {
     "name": "stderr",
     "output_type": "stream",
     "text": [
      "[nltk_data] Downloading package punkt to\n",
      "[nltk_data]     C:\\Users\\noeli\\AppData\\Roaming\\nltk_data...\n",
      "[nltk_data]   Package punkt is already up-to-date!\n",
      "[nltk_data] Downloading package stopwords to\n",
      "[nltk_data]     C:\\Users\\noeli\\AppData\\Roaming\\nltk_data...\n",
      "[nltk_data]   Package stopwords is already up-to-date!\n"
     ]
    }
   ],
   "source": [
    "import nltk\n",
    "nltk.download('punkt')  # Para asegurarte de que el tokenizador está disponible\n",
    "nltk.download('stopwords')  # Para asegurarte de que las stopwords están disponibles\n",
    "\n",
    "texto = \"¡Hola! ¿Cómo estás hoy? Espero que estés aprendiendo mucho.\"\n",
    "tokens = word_tokenize(texto)\n",
    "stop_words = set(stopwords.words('spanish'))\n",
    "\n",
    "# Filtrar palabras que no son stopwords\n",
    "palabras_filtradas = [palabra for palabra in tokens if palabra.lower() not in stop_words]\n",
    "\n",
    "print(\"Tokens:\", tokens)\n",
    "print(\"Sin stopwords:\", palabras_filtradas)\n"
   ]
  },
  {
   "cell_type": "code",
   "execution_count": 6,
   "id": "728c4e83-88ed-4f78-8067-e777555bb02e",
   "metadata": {},
   "outputs": [
    {
     "name": "stdout",
     "output_type": "stream",
     "text": [
      "{'la', 'sería', 'seremos', 'una', 'se', 'habrá', 'otro', 'tenéis', 'fuiste', 'sentidas', 'tuvieran', 'sus', 'estos', 'otros', 'su', 'les', 'eres', 'habido', 'seríais', 'sois', 'mías', 'algunas', 'fuéramos', 'estoy', 'tuvimos', 'tendría', 'ya', 'hubisteis', 'tanto', 'hubieses', 'estuviésemos', 'sin', 'estaban', 'cual', 'los', 'donde', 'estés', 'habida', 'fuisteis', 'tuvisteis', 'vuestra', 'eran', 'hubiésemos', 'mí', 'estará', 'haya', 'tenida', 'están', 'habrías', 'estéis', 'estaríamos', 'y', 'ti', 'tenido', 'habías', 'ellos', 'al', 'uno', 'tengáis', 'qué', 'tu', 'fuera', 'mis', 'sentid', 'eras', 'hayáis', 'seré', 'estás', 'son', 'teniendo', 'vuestros', 'tenías', 'estadas', 'nada', 'hay', 'fuerais', 'estamos', 'teníamos', 'fui', 'fueras', 'sentido', 'nuestro', 'durante', 'las', 'sentida', 'hubiesen', 'no', 'hubierais', 'este', 'fueseis', 'tengan', 'éramos', 'que', 'seríamos', 'vuestro', 'tenga', 'tenemos', 'somos', 'porque', 'antes', 'hubiera', 'habrían', 'para', 'estuvieran', 'ese', 'fue', 'esa', 'habidos', 'hubo', 'tendrá', 'del', 'nos', 'será', 'tuvierais', 'tengamos', 'ni', 'tuve', 'hayan', 'yo', 'has', 'habiendo', 'otra', 'esté', 'sentidos', 'le', 'nuestros', 'estarás', 'estáis', 'con', 'han', 'estábamos', 'quien', 'tienes', 'algunos', 'unos', 'tendremos', 'todos', 'habíais', 'hasta', 'estuvimos', 'estén', 'serías', 'fuesen', 'hayas', 'hube', 'ellas', 'es', 'tengas', 'seréis', 'tenían', 'tendríais', 'tendríamos', 'hubieseis', 'seamos', 'estas', 'tenidas', 'sobre', 'estaré', 'muy', 'tuvieras', 'estados', 'estado', 'sintiendo', 'estabais', 'tuviste', 'lo', 'tuyas', 'hubiéramos', 'estuvo', 'más', 'ella', 'habidas', 'estuvisteis', 'suyas', 'ha', 'hubieron', 'tuviesen', 'estarías', 'vuestras', 'de', 'o', 'hubimos', 'tenía', 'estuve', 'tuvo', 'estaría', 'otras', 'erais', 'tendré', 'habremos', 'mi', 'hubiese', 'os', 'en', 'hubieran', 'vosotras', 'tuya', 'tendrás', 'tus', 'quienes', 'tuviésemos', 'fueran', 'tuviera', 'tendrán', 'tenidos', 'cuando', 'todo', 'serían', 'también', 'había', 'estada', 'esas', 'era', 'esos', 'estuviesen', 'habré', 'tuvieseis', 'mío', 'estuvieron', 'habíamos', 'tuyos', 'hayamos', 'estaremos', 'tuyo', 'estabas', 'fuésemos', 'habéis', 'suya', 'hemos', 'soy', 'serán', 'habría', 'tuvieron', 'tú', 'estando', 'estuvierais', 'teníais', 'estuviéramos', 'hubieras', 'estuvieses', 'tuviese', 'estarán', 'eso', 'sean', 'entre', 'nuestra', 'estad', 'seáis', 'míos', 'suyo', 'por', 'desde', 'suyos', 'poco', 'fuimos', 'el', 'habríamos', 'sea', 'tened', 'está', 'estarían', 'habían', 'vosotros', 'hubiste', 'tienen', 'siente', 'estuviera', 'algo', 'sí', 'tendréis', 'habríais', 'habrán', 'serás', 'pero', 'fueron', 'fuese', 'estuvieseis', 'tuviéramos', 'nosotras', 'estaréis', 'habrás', 'un', 'mucho', 'estar', 'me', 'estaríais', 'tiene', 'estuvieras', 'ante', 'he', 'nuestras', 'como', 'te', 'seas', 'tendrían', 'tendrías', 'estuviese', 'esto', 'estemos', 'habréis', 'fueses', 'mía', 'tuvieses', 'estuviste', 'él', 'estaba', 'e', 'contra', 'tengo', 'nosotros', 'muchos', 'a', 'esta'}\n"
     ]
    }
   ],
   "source": [
    "stop_words = set(stopwords.words('spanish'))\n",
    "print(stop_words)"
   ]
  },
  {
   "cell_type": "code",
   "execution_count": 7,
   "id": "ebfce6d9-3363-462e-89e2-cb0471b0f085",
   "metadata": {},
   "outputs": [
    {
     "name": "stdout",
     "output_type": "stream",
     "text": [
      "['El', 'gato', 'es', 'negro', 'y', 'el', 'perro', 'es', 'blanco']\n"
     ]
    }
   ],
   "source": [
    "texto = \"El gato es negro y el perro es blanco\"\n",
    "tokens = word_tokenize(texto)\n",
    "print(tokens)\n"
   ]
  },
  {
   "cell_type": "code",
   "execution_count": 8,
   "id": "52f2659d-0236-4ddd-9fc9-e00a254ce100",
   "metadata": {},
   "outputs": [
    {
     "name": "stdout",
     "output_type": "stream",
     "text": [
      "['El', 'gato', 'negro', 'perro', 'blanco']\n"
     ]
    }
   ],
   "source": [
    "texto_filtrado= [word for word in tokens if not word in stop_words]\n",
    "print(texto_filtrado)"
   ]
  },
  {
   "cell_type": "code",
   "execution_count": 9,
   "id": "436993c0-aedf-4a3f-ae20-5f6b8ac3c5ba",
   "metadata": {},
   "outputs": [
    {
     "name": "stdout",
     "output_type": "stream",
     "text": [
      "['el', 'gato', 'es', 'negro', 'y', 'el', 'perro', 'es', 'blanco']\n",
      "['gato', 'negro', 'perro', 'blanco']\n"
     ]
    }
   ],
   "source": [
    "texto = texto.lower()\n",
    "tokens = word_tokenize(texto)\n",
    "print(tokens)\n",
    "texto_filtrado= [word for word in tokens if not word in stop_words]\n",
    "print(texto_filtrado)"
   ]
  },
  {
   "cell_type": "code",
   "execution_count": null,
   "id": "a71e7e4d-ae5a-4def-a965-090a82caeb9f",
   "metadata": {},
   "outputs": [],
   "source": []
  }
 ],
 "metadata": {
  "kernelspec": {
   "display_name": "Python 3 (ipykernel)",
   "language": "python",
   "name": "python3"
  },
  "language_info": {
   "codemirror_mode": {
    "name": "ipython",
    "version": 3
   },
   "file_extension": ".py",
   "mimetype": "text/x-python",
   "name": "python",
   "nbconvert_exporter": "python",
   "pygments_lexer": "ipython3",
   "version": "3.13.1"
  }
 },
 "nbformat": 4,
 "nbformat_minor": 5
}
